{
 "cells": [
  {
   "cell_type": "markdown",
   "id": "e410e3ff",
   "metadata": {},
   "source": [
    "# CRITICAL: Search + close EXTRA and CLEAN keywords before submitting."
   ]
  },
  {
   "cell_type": "markdown",
   "id": "4f455b05",
   "metadata": {},
   "source": [
    "# Project 3: Office Relocation"
   ]
  },
  {
   "cell_type": "markdown",
   "id": "c4c18cd9",
   "metadata": {},
   "source": [
    "## Process: \n",
    "1. Choose 3 Spanish cities that are popular in the gaming industry to query for locations.\n",
    "2. Assign values to all requirements, based on employee value.\n",
    "3. Write formulae to return the shortest distance for all requirements in the 3 cities.\n",
    "4. Sum all distance values multiplied by requirement weight to determine the lowest proximity score.\n",
    "5. Bonus: add a parameter to include the value of having nearby gaming compmanies."
   ]
  },
  {
   "cell_type": "markdown",
   "id": "d613b877",
   "metadata": {},
   "source": [
    "## 1. Determine Locations.\n",
    "\n",
    "Given this map of all gaming companies globally, I have chosen the most gaming-populous cities to locate the spanish branch of my gaming company: Barcelona, Madrid, and Valencia.\n",
    "\n",
    "https://gamedevmap.com/index.php?country=Spain&state=&city=&query=&type="
   ]
  },
  {
   "cell_type": "markdown",
   "id": "655cccc9",
   "metadata": {},
   "source": [
    "## 2. Assign Value to All Requirements.\n",
    "\n",
    "Weight value of all employeees: Multiply salary (glassdoor avg) by number of employees in said position.\n",
    "\n",
    "### Employees:\n",
    "- 20 Designers\n",
    "- 5 UI/UX Engineers\n",
    "- 10 Frontend Developers\n",
    "- 15 Data Engineers\n",
    "- 5 Backend Developers\n",
    "- 20 Account Managers\n",
    "- 1 Maintenance guy that loves basketball\n",
    "- 10 Executives\n",
    "- 1 CEO/President\n",
    "\n",
    "### Requirements:\n",
    "- Design companies: Designers like to go to design talks and share knowledge. There must be some nearby companies that also do design.\n",
    "- School: 30% of the company staff have at least 1 child.\n",
    "- Startups: Developers like to be near successful tech startups that have raised at least 1 Million dollars.\n",
    "- Starbucks: Executives like Starbucks A LOT. Ensure there's a starbucks not too far.\n",
    "- Airport: Account managers need to travel a lot.\n",
    "- Club: Everyone in the company is between 25 and 40, give them some place to go party.\n",
    "- Vegan restaurant: The CEO is vegan.\n",
    "- Basketball Stadium: If you want to make the maintenance guy happy, a basketball stadium must be around 10 Km.\n",
    "- Dog Groomer: The office dog—\"Dobby\" needs a hairdresser every month. Ensure there's one not too far away.\n",
    "\n",
    "### Scrape Glassdoor for employee salaries:\n",
    "- add employees to a dataframe.\n",
    "- url glassdoor {employee name}.\n",
    "- Web scrape each page for salary, add to df.\n",
    "- add requirement locations to df."
   ]
  },
  {
   "cell_type": "code",
   "execution_count": 19,
   "id": "8d8c4b5e",
   "metadata": {},
   "outputs": [],
   "source": [
    "import pandas as pd"
   ]
  },
  {
   "cell_type": "markdown",
   "id": "9f3af8b1",
   "metadata": {},
   "source": [
    "![CLEAN](https://stackoverflow.com/questions/63966750/create-a-pandas-dataframe-from-a-dict-of-uneven-length)"
   ]
  },
  {
   "cell_type": "code",
   "execution_count": 33,
   "id": "84b4b785",
   "metadata": {},
   "outputs": [
    {
     "data": {
      "text/html": [
       "<div>\n",
       "<style scoped>\n",
       "    .dataframe tbody tr th:only-of-type {\n",
       "        vertical-align: middle;\n",
       "    }\n",
       "\n",
       "    .dataframe tbody tr th {\n",
       "        vertical-align: top;\n",
       "    }\n",
       "\n",
       "    .dataframe thead th {\n",
       "        text-align: right;\n",
       "    }\n",
       "</style>\n",
       "<table border=\"1\" class=\"dataframe\">\n",
       "  <thead>\n",
       "    <tr style=\"text-align: right;\">\n",
       "      <th></th>\n",
       "      <th>title</th>\n",
       "      <th>salary (k)</th>\n",
       "      <th>amt</th>\n",
       "      <th>total salary score</th>\n",
       "      <th>location req</th>\n",
       "      <th>shared reqs</th>\n",
       "    </tr>\n",
       "  </thead>\n",
       "  <tbody>\n",
       "    <tr>\n",
       "      <th>0</th>\n",
       "      <td>Designer</td>\n",
       "      <td>30</td>\n",
       "      <td>20</td>\n",
       "      <td>600</td>\n",
       "      <td>design_companies</td>\n",
       "      <td>school</td>\n",
       "    </tr>\n",
       "    <tr>\n",
       "      <th>1</th>\n",
       "      <td>UI/UX Engineer</td>\n",
       "      <td>33</td>\n",
       "      <td>5</td>\n",
       "      <td>165</td>\n",
       "      <td>design_companies</td>\n",
       "      <td>club</td>\n",
       "    </tr>\n",
       "    <tr>\n",
       "      <th>2</th>\n",
       "      <td>Frontend Developer</td>\n",
       "      <td>33</td>\n",
       "      <td>10</td>\n",
       "      <td>330</td>\n",
       "      <td>startups</td>\n",
       "      <td>groomer</td>\n",
       "    </tr>\n",
       "    <tr>\n",
       "      <th>3</th>\n",
       "      <td>Data Engineer</td>\n",
       "      <td>44</td>\n",
       "      <td>15</td>\n",
       "      <td>660</td>\n",
       "      <td>startups</td>\n",
       "      <td>0</td>\n",
       "    </tr>\n",
       "    <tr>\n",
       "      <th>4</th>\n",
       "      <td>Backend Developer</td>\n",
       "      <td>39</td>\n",
       "      <td>5</td>\n",
       "      <td>195</td>\n",
       "      <td>startups</td>\n",
       "      <td>0</td>\n",
       "    </tr>\n",
       "    <tr>\n",
       "      <th>5</th>\n",
       "      <td>Account Manager</td>\n",
       "      <td>25</td>\n",
       "      <td>20</td>\n",
       "      <td>500</td>\n",
       "      <td>airport</td>\n",
       "      <td>0</td>\n",
       "    </tr>\n",
       "    <tr>\n",
       "      <th>6</th>\n",
       "      <td>Maintenance</td>\n",
       "      <td>20</td>\n",
       "      <td>1</td>\n",
       "      <td>20</td>\n",
       "      <td>stadium</td>\n",
       "      <td>0</td>\n",
       "    </tr>\n",
       "    <tr>\n",
       "      <th>7</th>\n",
       "      <td>Executive</td>\n",
       "      <td>60</td>\n",
       "      <td>10</td>\n",
       "      <td>600</td>\n",
       "      <td>starbucks</td>\n",
       "      <td>0</td>\n",
       "    </tr>\n",
       "    <tr>\n",
       "      <th>8</th>\n",
       "      <td>CEO</td>\n",
       "      <td>80</td>\n",
       "      <td>1</td>\n",
       "      <td>80</td>\n",
       "      <td>vegan_eat</td>\n",
       "      <td>0</td>\n",
       "    </tr>\n",
       "  </tbody>\n",
       "</table>\n",
       "</div>"
      ],
      "text/plain": [
       "                title  salary (k)  amt  total salary score      location req  \\\n",
       "0            Designer          30   20                 600  design_companies   \n",
       "1      UI/UX Engineer          33    5                 165  design_companies   \n",
       "2  Frontend Developer          33   10                 330          startups   \n",
       "3       Data Engineer          44   15                 660          startups   \n",
       "4   Backend Developer          39    5                 195          startups   \n",
       "5     Account Manager          25   20                 500           airport   \n",
       "6         Maintenance          20    1                  20           stadium   \n",
       "7           Executive          60   10                 600         starbucks   \n",
       "8                 CEO          80    1                  80         vegan_eat   \n",
       "\n",
       "  shared reqs  \n",
       "0      school  \n",
       "1        club  \n",
       "2     groomer  \n",
       "3           0  \n",
       "4           0  \n",
       "5           0  \n",
       "6           0  \n",
       "7           0  \n",
       "8           0  "
      ]
     },
     "execution_count": 33,
     "metadata": {},
     "output_type": "execute_result"
    }
   ],
   "source": [
    "# outline all information to turn into a dataframe\n",
    "title = ['Designer', 'UI/UX Engineer', 'Frontend Developer', 'Data Engineer', 'Backend Developer', 'Account Manager', 'Maintenance', 'Executive', 'CEO']\n",
    "salary_k = [30, 33, 33, 44, 39, 25, 20, 60, 80] # Checked on glassdoor. EXTRA: parse through glassdoor to maintain an up-to-date list of employee salaries\n",
    "amt = [20, 5, 10, 15, 5, 20, 1, 10, 1]\n",
    "total_salary_score = []\n",
    "location_req = ['design_companies', 'design_companies', 'startups', 'startups', 'startups', 'airport', 'stadium', 'starbucks', 'vegan_eat']\n",
    "shared_reqs = ['school', 'club', 'groomer', 0,0,0,0,0,0] # CLEAN: Turn 0 values into null values or skip this row.\n",
    "\n",
    "# add salary score to dataframe-to-be\n",
    "for i in range(len(title)): \n",
    "    total_salary_score.append(salary_k[i]*amt[i])\n",
    "\n",
    "# Dataframe structure: employee_title, employee_salary, employees_amt, total_score, location_req\n",
    "to_df = {'title':title, 'salary (k)':salary_k, 'amt':amt, 'total salary score':total_salary_score, 'location req':location_req, 'shared reqs':shared_reqs}\n",
    "df = pd.DataFrame.from_dict(to_df)\n",
    "\n",
    "# visualize dataframe and decide on rankings\n",
    "df"
   ]
  },
  {
   "cell_type": "markdown",
   "id": "0484d966",
   "metadata": {},
   "source": [
    "## 3. Query the Shortest Distances for All Employee Requirements."
   ]
  },
  {
   "cell_type": "markdown",
   "id": "d02cbfe3",
   "metadata": {},
   "source": [
    "### Process:\n",
    "- Pass a list of potential office locations.\n",
    "- Calculate the shortest ditance from each requirement for each potential office.\n",
    "\n",
    "Dataframe structure: office_location, design_companies, school, startups, starbucks, airport, club, vegan_eat, stadium, groomer"
   ]
  },
  {
   "cell_type": "code",
   "execution_count": null,
   "id": "091f6902",
   "metadata": {},
   "outputs": [],
   "source": [
    "mad = find_offices('Madrid')\n",
    "bcn = find_offices('Barcelona')\n",
    "val = find_offices('Valencia')\n",
    "\n",
    "mad"
   ]
  },
  {
   "cell_type": "code",
   "execution_count": null,
   "id": "63754de5",
   "metadata": {},
   "outputs": [],
   "source": [
    "bcn"
   ]
  },
  {
   "cell_type": "code",
   "execution_count": null,
   "id": "bf653123",
   "metadata": {},
   "outputs": [],
   "source": [
    "val"
   ]
  },
  {
   "cell_type": "markdown",
   "id": "e805c4d7",
   "metadata": {},
   "source": [
    "Communal decisions: dog + club. So how much do they care? "
   ]
  },
  {
   "cell_type": "markdown",
   "id": "32a41db3",
   "metadata": {},
   "source": [
    "### Query Requirements: Designers\n",
    "\n",
    "Query MongoDB for the nearest design companies.\n",
    "Add map graphic below, keep functions to visualize ina spearate function doc."
   ]
  },
  {
   "cell_type": "markdown",
   "id": "af514fae",
   "metadata": {},
   "source": [
    "### Query Requirements: Schools\n",
    "\n",
    "Query MongoDB for the nearest schools."
   ]
  },
  {
   "cell_type": "markdown",
   "id": "09bae2e0",
   "metadata": {},
   "source": [
    "## 4. Determine Proximity Score.\n",
    "\n",
    "Weight value of all employeees: Multiply salary (glassdoor avg) by number of employees in said position"
   ]
  }
 ],
 "metadata": {
  "kernelspec": {
   "display_name": "Python 3 (ipykernel)",
   "language": "python",
   "name": "python3"
  },
  "language_info": {
   "codemirror_mode": {
    "name": "ipython",
    "version": 3
   },
   "file_extension": ".py",
   "mimetype": "text/x-python",
   "name": "python",
   "nbconvert_exporter": "python",
   "pygments_lexer": "ipython3",
   "version": "3.9.12"
  }
 },
 "nbformat": 4,
 "nbformat_minor": 5
}
