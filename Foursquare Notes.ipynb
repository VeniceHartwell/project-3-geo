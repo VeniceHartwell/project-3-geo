{
 "cells": [
  {
   "cell_type": "code",
   "execution_count": 2,
   "id": "e6e86da6",
   "metadata": {},
   "outputs": [],
   "source": [
    "import os\n",
    "import requests\n",
    "import json\n",
    "from dotenv import load_dotenv\n",
    "import pandas as pd\n",
    "import geopandas as gpd\n",
    "from cartoframes.viz import Map, Layer, popup_element"
   ]
  },
  {
   "cell_type": "code",
   "execution_count": 10,
   "id": "6bded29f",
   "metadata": {},
   "outputs": [
    {
     "data": {
      "text/plain": [
       "{'standard': {'addresst': {},\n",
       "  'statename': {},\n",
       "  'city': 'Barcelona',\n",
       "  'prov': 'ES',\n",
       "  'countryname': 'Spain',\n",
       "  'postal': {},\n",
       "  'confidence': '0.90'},\n",
       " 'longt': '2.15379',\n",
       " 'alt': {'loc': {'longt': '2.19306',\n",
       "   'prov': 'ES',\n",
       "   'city': 'Barcelona',\n",
       "   'countryname': 'Spain',\n",
       "   'postal': '08030',\n",
       "   'region': {},\n",
       "   'latt': '41.43553'}},\n",
       " 'elevation': {},\n",
       " 'latt': '41.40359'}"
      ]
     },
     "execution_count": 10,
     "metadata": {},
     "output_type": "execute_result"
    }
   ],
   "source": [
    "where = \"Barcelona, Spain\"\n",
    "res = requests.get(f\"https://geocode.xyz/{where}?json=1\").json()\n",
    "res"
   ]
  },
  {
   "cell_type": "code",
   "execution_count": 14,
   "id": "25bc3296",
   "metadata": {},
   "outputs": [
    {
     "name": "stdout",
     "output_type": "stream",
     "text": [
      "2.15379 41.40359\n"
     ]
    }
   ],
   "source": [
    "bcn_long = res[\"longt\"]\n",
    "bcn_lat = res[\"latt\"]\n",
    "print(bcn_long, bcn_lat)"
   ]
  },
  {
   "cell_type": "code",
   "execution_count": 18,
   "id": "df19335d",
   "metadata": {},
   "outputs": [
    {
     "data": {
      "text/plain": [
       "('2.15379', '41.40359')"
      ]
     },
     "execution_count": 18,
     "metadata": {},
     "output_type": "execute_result"
    }
   ],
   "source": [
    "def get_coordinates (place):\n",
    "    try:\n",
    "        res = requests.get(f\"https://geocode.xyz/{place}?json=1\").json()\n",
    "        return (res[\"longt\"],res[\"latt\"])\n",
    "    except:\n",
    "        return f\"Sorry, no matches for {place}\"\n",
    "    \n",
    "barcelona = get_coordinates(\"Barcelona, Spain\")\n",
    "barcelona"
   ]
  },
  {
   "cell_type": "code",
   "execution_count": 20,
   "id": "b9fffdd7",
   "metadata": {},
   "outputs": [],
   "source": [
    "bcn_justincase = {'type': 'Point', 'coordinates': [41.40359, 2.15379]}"
   ]
  },
  {
   "cell_type": "markdown",
   "id": "1de01037",
   "metadata": {},
   "source": [
    "## Foursquare"
   ]
  },
  {
   "cell_type": "code",
   "execution_count": 22,
   "id": "7a70bff5",
   "metadata": {},
   "outputs": [],
   "source": [
    "load_dotenv()\n",
    "client_id = os.getenv(\"CLIENT_ID\")\n",
    "client_secret = os.getenv(\"CLIENT_SECRET\")\n",
    "url = \"https://api.foursquare.com/v2/venues/search/\"\n",
    "\n",
    "barcelona = [bcn_long, bcn_lat]\n",
    "query = \"Librería\""
   ]
  },
  {
   "cell_type": "markdown",
   "id": "0bc3d753",
   "metadata": {},
   "source": [
    "### REMEMBER TO LIMIT HEADER QUERIES!"
   ]
  },
  {
   "cell_type": "code",
   "execution_count": 50,
   "id": "33d59efe",
   "metadata": {},
   "outputs": [
    {
     "data": {
      "text/plain": [
       "[{'fsq_id': '62318f2fa262985bbc431c88',\n",
       "  'categories': [{'id': 13035,\n",
       "    'name': 'Coffee Shop',\n",
       "    'icon': {'prefix': 'https://ss3.4sqi.net/img/categories_v2/food/coffeeshop_',\n",
       "     'suffix': '.png'}}],\n",
       "  'chains': [{'id': 'ab4c54c0-d68a-012e-5619-003048cad9da',\n",
       "    'name': 'Starbucks'}],\n",
       "  'distance': 1002,\n",
       "  'geocodes': {'main': {'latitude': 41.395809, 'longitude': 2.159885}},\n",
       "  'link': '/v3/places/62318f2fa262985bbc431c88',\n",
       "  'location': {'address': 'Paseo de Gracia, 103',\n",
       "   'address_extended': 'Bajo',\n",
       "   'admin_region': 'Cataluña',\n",
       "   'country': 'ES',\n",
       "   'cross_street': '',\n",
       "   'formatted_address': 'Paseo de Gracia, 103, 08007 Barcelona Catalonia',\n",
       "   'locality': 'Barcelona',\n",
       "   'postcode': '08007',\n",
       "   'region': 'Catalonia'},\n",
       "  'name': 'Starbucks',\n",
       "  'related_places': {},\n",
       "  'timezone': 'Europe/Madrid'},\n",
       " {'fsq_id': '5b65e0cfad910e002c4d4d6e',\n",
       "  'categories': [{'id': 13035,\n",
       "    'name': 'Coffee Shop',\n",
       "    'icon': {'prefix': 'https://ss3.4sqi.net/img/categories_v2/food/coffeeshop_',\n",
       "     'suffix': '.png'}}],\n",
       "  'chains': [{'id': 'ab4c54c0-d68a-012e-5619-003048cad9da',\n",
       "    'name': 'Starbucks'}],\n",
       "  'distance': 1013,\n",
       "  'geocodes': {'main': {'latitude': 41.395158, 'longitude': 2.158227},\n",
       "   'roof': {'latitude': 41.395158, 'longitude': 2.158227}},\n",
       "  'link': '/v3/places/5b65e0cfad910e002c4d4d6e',\n",
       "  'location': {'address': 'Rambla de Cataluña, 122',\n",
       "   'admin_region': 'Cataluña',\n",
       "   'country': 'ES',\n",
       "   'cross_street': '',\n",
       "   'formatted_address': 'Rambla de Cataluña, 122, 08008 Barcelona Catalonia',\n",
       "   'locality': 'Barcelona',\n",
       "   'postcode': '08008',\n",
       "   'region': 'Catalonia'},\n",
       "  'name': 'Starbucks',\n",
       "  'related_places': {},\n",
       "  'timezone': 'Europe/Madrid'},\n",
       " {'fsq_id': '5ab56e7662420b32098b8bb0',\n",
       "  'categories': [{'id': 13035,\n",
       "    'name': 'Coffee Shop',\n",
       "    'icon': {'prefix': 'https://ss3.4sqi.net/img/categories_v2/food/coffeeshop_',\n",
       "     'suffix': '.png'}}],\n",
       "  'chains': [{'id': 'ab4c54c0-d68a-012e-5619-003048cad9da',\n",
       "    'name': 'Starbucks'}],\n",
       "  'distance': 1554,\n",
       "  'geocodes': {'main': {'latitude': 41.392904, 'longitude': 2.165519},\n",
       "   'roof': {'latitude': 41.392904, 'longitude': 2.165519}},\n",
       "  'link': '/v3/places/5ab56e7662420b32098b8bb0',\n",
       "  'location': {'address': \"Carrer D'Aragó, 271\",\n",
       "   'admin_region': 'Cataluña',\n",
       "   'country': 'ES',\n",
       "   'cross_street': '',\n",
       "   'formatted_address': \"Carrer D'Aragó, 271, 08007 Barcelona Catalonia\",\n",
       "   'locality': 'Barcelona',\n",
       "   'postcode': '08007',\n",
       "   'region': 'Catalonia'},\n",
       "  'name': 'Starbucks',\n",
       "  'related_places': {'parent': {'fsq_id': '577e4add498eb2d9a31557dd',\n",
       "    'name': 'Room Mate Anna'}},\n",
       "  'timezone': 'Europe/Madrid'},\n",
       " {'fsq_id': '4b7eb634f964a5208dfa2fe3',\n",
       "  'categories': [{'id': 13035,\n",
       "    'name': 'Coffee Shop',\n",
       "    'icon': {'prefix': 'https://ss3.4sqi.net/img/categories_v2/food/coffeeshop_',\n",
       "     'suffix': '.png'}}],\n",
       "  'chains': [{'id': 'ab4c54c0-d68a-012e-5619-003048cad9da',\n",
       "    'name': 'Starbucks'}],\n",
       "  'distance': 1690,\n",
       "  'geocodes': {'main': {'latitude': 41.402337, 'longitude': 2.174068},\n",
       "   'roof': {'latitude': 41.402337, 'longitude': 2.174068}},\n",
       "  'link': '/v3/places/4b7eb634f964a5208dfa2fe3',\n",
       "  'location': {'address': 'Plaça de la Sagrada Família, 19',\n",
       "   'admin_region': 'Cataluña',\n",
       "   'country': 'ES',\n",
       "   'formatted_address': 'Plaça de la Sagrada Família, 19, 08013 Barcelona Catalonia',\n",
       "   'locality': 'Barcelona',\n",
       "   'neighborhood': ['La Sagrada Família'],\n",
       "   'postcode': '08013',\n",
       "   'region': 'Catalonia'},\n",
       "  'name': 'Starbucks',\n",
       "  'related_places': {},\n",
       "  'timezone': 'Europe/Madrid'},\n",
       " {'fsq_id': '4be597d9cf200f478764133c',\n",
       "  'categories': [{'id': 13035,\n",
       "    'name': 'Coffee Shop',\n",
       "    'icon': {'prefix': 'https://ss3.4sqi.net/img/categories_v2/food/coffeeshop_',\n",
       "     'suffix': '.png'}}],\n",
       "  'chains': [{'id': 'ab4c54c0-d68a-012e-5619-003048cad9da',\n",
       "    'name': 'Starbucks'}],\n",
       "  'distance': 1713,\n",
       "  'geocodes': {'main': {'latitude': 41.390814, 'longitude': 2.165062},\n",
       "   'roof': {'latitude': 41.390814, 'longitude': 2.165062}},\n",
       "  'link': '/v3/places/4be597d9cf200f478764133c',\n",
       "  'location': {'address': 'Carrer del Consell de Cent, 343',\n",
       "   'admin_region': 'Cataluña',\n",
       "   'country': 'ES',\n",
       "   'formatted_address': 'Carrer del Consell de Cent, 343, 08007 Barcelona Catalonia',\n",
       "   'locality': 'Barcelona',\n",
       "   'neighborhood': [\"La Dreta de l'Eixample\"],\n",
       "   'postcode': '08007',\n",
       "   'region': 'Catalonia'},\n",
       "  'name': 'Starbucks',\n",
       "  'related_places': {},\n",
       "  'timezone': 'Europe/Madrid'},\n",
       " {'fsq_id': '4b6fdde7f964a52065fe2ce3',\n",
       "  'categories': [{'id': 13035,\n",
       "    'name': 'Coffee Shop',\n",
       "    'icon': {'prefix': 'https://ss3.4sqi.net/img/categories_v2/food/coffeeshop_',\n",
       "     'suffix': '.png'}}],\n",
       "  'chains': [{'id': 'ab4c54c0-d68a-012e-5619-003048cad9da',\n",
       "    'name': 'Starbucks'}],\n",
       "  'distance': 2008,\n",
       "  'geocodes': {'main': {'latitude': 41.39099, 'longitude': 2.135633},\n",
       "   'roof': {'latitude': 41.39099, 'longitude': 2.135633}},\n",
       "  'link': '/v3/places/4b6fdde7f964a52065fe2ce3',\n",
       "  'location': {'address': 'Avinguda Diagonal, 640',\n",
       "   'admin_region': 'Cataluña',\n",
       "   'country': 'ES',\n",
       "   'formatted_address': 'Avinguda Diagonal, 640, 08017 Barcelona Catalonia',\n",
       "   'locality': 'Barcelona',\n",
       "   'neighborhood': ['Les Corts'],\n",
       "   'postcode': '08017',\n",
       "   'region': 'Catalonia'},\n",
       "  'name': 'Starbucks',\n",
       "  'related_places': {},\n",
       "  'timezone': 'Europe/Madrid'},\n",
       " {'fsq_id': '4bcc336168f976b0932f6283',\n",
       "  'categories': [{'id': 13035,\n",
       "    'name': 'Coffee Shop',\n",
       "    'icon': {'prefix': 'https://ss3.4sqi.net/img/categories_v2/food/coffeeshop_',\n",
       "     'suffix': '.png'}}],\n",
       "  'chains': [{'id': 'ab4c54c0-d68a-012e-5619-003048cad9da',\n",
       "    'name': 'Starbucks'}],\n",
       "  'distance': 2098,\n",
       "  'geocodes': {'main': {'latitude': 41.387974, 'longitude': 2.167991},\n",
       "   'roof': {'latitude': 41.387974, 'longitude': 2.167991}},\n",
       "  'link': '/v3/places/4bcc336168f976b0932f6283',\n",
       "  'location': {'address': 'Rambla de Catalunya, 10',\n",
       "   'admin_region': 'Cataluña',\n",
       "   'country': 'ES',\n",
       "   'formatted_address': 'Rambla de Catalunya, 10, 08007 Barcelona Catalonia',\n",
       "   'locality': 'Barcelona',\n",
       "   'neighborhood': [\"La Dreta de l'Eixample\"],\n",
       "   'postcode': '08007',\n",
       "   'region': 'Catalonia'},\n",
       "  'name': 'Starbucks',\n",
       "  'related_places': {},\n",
       "  'timezone': 'Europe/Madrid'},\n",
       " {'fsq_id': '4b7e7cdaf964a5202cef2fe3',\n",
       "  'categories': [{'id': 13035,\n",
       "    'name': 'Coffee Shop',\n",
       "    'icon': {'prefix': 'https://ss3.4sqi.net/img/categories_v2/food/coffeeshop_',\n",
       "     'suffix': '.png'}}],\n",
       "  'chains': [{'id': 'ab4c54c0-d68a-012e-5619-003048cad9da',\n",
       "    'name': 'Starbucks'}],\n",
       "  'distance': 2164,\n",
       "  'geocodes': {'main': {'latitude': 41.385204, 'longitude': 2.163273},\n",
       "   'roof': {'latitude': 41.385204, 'longitude': 2.163273}},\n",
       "  'link': '/v3/places/4b7e7cdaf964a5202cef2fe3',\n",
       "  'location': {'address': 'Plaça Universitat, 2',\n",
       "   'admin_region': 'Cataluña',\n",
       "   'country': 'ES',\n",
       "   'cross_street': 'C. Aribau',\n",
       "   'formatted_address': 'Plaça Universitat, 2 (C. Aribau), 08007 Barcelona Catalonia',\n",
       "   'locality': 'Barcelona',\n",
       "   'neighborhood': ['Sant Antoni'],\n",
       "   'postcode': '08007',\n",
       "   'region': 'Catalonia'},\n",
       "  'name': 'Starbucks',\n",
       "  'related_places': {},\n",
       "  'timezone': 'Europe/Madrid'},\n",
       " {'fsq_id': '4b509cb6f964a520682927e3',\n",
       "  'categories': [{'id': 13035,\n",
       "    'name': 'Coffee Shop',\n",
       "    'icon': {'prefix': 'https://ss3.4sqi.net/img/categories_v2/food/coffeeshop_',\n",
       "     'suffix': '.png'}}],\n",
       "  'chains': [{'id': 'ab4c54c0-d68a-012e-5619-003048cad9da',\n",
       "    'name': 'Starbucks'}],\n",
       "  'distance': 2242,\n",
       "  'geocodes': {'main': {'latitude': 41.388819, 'longitude': 2.171884},\n",
       "   'roof': {'latitude': 41.388819, 'longitude': 2.171884}},\n",
       "  'link': '/v3/places/4b509cb6f964a520682927e3',\n",
       "  'location': {'address': 'Ronda de Sant Pere, 17',\n",
       "   'admin_region': 'Cataluña',\n",
       "   'country': 'ES',\n",
       "   'formatted_address': 'Ronda de Sant Pere, 17, 08010 Barcelona Catalonia',\n",
       "   'locality': 'Barcelona',\n",
       "   'neighborhood': ['Ribera'],\n",
       "   'postcode': '08010',\n",
       "   'region': 'Catalonia'},\n",
       "  'name': 'Starbucks',\n",
       "  'related_places': {},\n",
       "  'timezone': 'Europe/Madrid'},\n",
       " {'fsq_id': '4b6d3d1ff964a520086d2ce3',\n",
       "  'categories': [{'id': 13035,\n",
       "    'name': 'Coffee Shop',\n",
       "    'icon': {'prefix': 'https://ss3.4sqi.net/img/categories_v2/food/coffeeshop_',\n",
       "     'suffix': '.png'}}],\n",
       "  'chains': [{'id': 'ab4c54c0-d68a-012e-5619-003048cad9da',\n",
       "    'name': 'Starbucks'}],\n",
       "  'distance': 2298,\n",
       "  'geocodes': {'main': {'latitude': 41.385779, 'longitude': 2.167932},\n",
       "   'roof': {'latitude': 41.385779, 'longitude': 2.167932}},\n",
       "  'link': '/v3/places/4b6d3d1ff964a520086d2ce3',\n",
       "  'location': {'address': 'Carrer de Pelai, 13-39',\n",
       "   'admin_region': 'Cataluña',\n",
       "   'country': 'ES',\n",
       "   'cross_street': 'C. Balmes',\n",
       "   'formatted_address': 'Carrer de Pelai, 13-39 (C. Balmes), 08001 Barcelona Catalonia',\n",
       "   'locality': 'Barcelona',\n",
       "   'neighborhood': [\"La Dreta de l'Eixample\"],\n",
       "   'postcode': '08001',\n",
       "   'region': 'Catalonia'},\n",
       "  'name': 'Starbucks',\n",
       "  'related_places': {'parent': {'fsq_id': '4b4b39eff964a520e29426e3',\n",
       "    'name': 'El Triangle'}},\n",
       "  'timezone': 'Europe/Madrid'}]"
      ]
     },
     "execution_count": 50,
     "metadata": {},
     "output_type": "execute_result"
    }
   ],
   "source": [
    "# Starbucks search\n",
    "query = \"starbucks\"\n",
    "location = [41.40359,2.15379]\n",
    "\n",
    "def get_fsqr_distance(query, location):\n",
    "    url = f\"https://api.foursquare.com/v3/places/search?query={query}&ll={location[0]}%2C{location[1]}&sort=DISTANCE&limit=10\"\n",
    "    headers = {\n",
    "        \"Accept\": \"application/json\",\n",
    "        \"Authorization\": \"fsq3nSb08fmNysRWqCGqA/6XjzbUkx+LGcB+JOstG+sNUI8=\"\n",
    "    }\n",
    "    response = requests.get(url, headers=headers)\n",
    "    return response.json()[\"results\"]\n",
    "    \n",
    "starbucks_distances = get_fsqr_distance(query,location)\n",
    "starbucks_distances"
   ]
  },
  {
   "cell_type": "code",
   "execution_count": 51,
   "id": "cfc5b692",
   "metadata": {},
   "outputs": [
    {
     "data": {
      "text/plain": [
       "10"
      ]
     },
     "execution_count": 51,
     "metadata": {},
     "output_type": "execute_result"
    }
   ],
   "source": [
    "len(starbucks_distances)"
   ]
  },
  {
   "cell_type": "code",
   "execution_count": 53,
   "id": "6c96b6c5",
   "metadata": {},
   "outputs": [
    {
     "data": {
      "text/plain": [
       "{'fsq_id': '62318f2fa262985bbc431c88',\n",
       " 'categories': [{'id': 13035,\n",
       "   'name': 'Coffee Shop',\n",
       "   'icon': {'prefix': 'https://ss3.4sqi.net/img/categories_v2/food/coffeeshop_',\n",
       "    'suffix': '.png'}}],\n",
       " 'chains': [{'id': 'ab4c54c0-d68a-012e-5619-003048cad9da',\n",
       "   'name': 'Starbucks'}],\n",
       " 'distance': 1002,\n",
       " 'geocodes': {'main': {'latitude': 41.395809, 'longitude': 2.159885}},\n",
       " 'link': '/v3/places/62318f2fa262985bbc431c88',\n",
       " 'location': {'address': 'Paseo de Gracia, 103',\n",
       "  'address_extended': 'Bajo',\n",
       "  'admin_region': 'Cataluña',\n",
       "  'country': 'ES',\n",
       "  'cross_street': '',\n",
       "  'formatted_address': 'Paseo de Gracia, 103, 08007 Barcelona Catalonia',\n",
       "  'locality': 'Barcelona',\n",
       "  'postcode': '08007',\n",
       "  'region': 'Catalonia'},\n",
       " 'name': 'Starbucks',\n",
       " 'related_places': {},\n",
       " 'timezone': 'Europe/Madrid'}"
      ]
     },
     "execution_count": 53,
     "metadata": {},
     "output_type": "execute_result"
    }
   ],
   "source": [
    "list_of_starbucks[0]"
   ]
  }
 ],
 "metadata": {
  "kernelspec": {
   "display_name": "Python 3 (ipykernel)",
   "language": "python",
   "name": "python3"
  },
  "language_info": {
   "codemirror_mode": {
    "name": "ipython",
    "version": 3
   },
   "file_extension": ".py",
   "mimetype": "text/x-python",
   "name": "python",
   "nbconvert_exporter": "python",
   "pygments_lexer": "ipython3",
   "version": "3.9.12"
  }
 },
 "nbformat": 4,
 "nbformat_minor": 5
}
