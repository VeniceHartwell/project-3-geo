{
 "cells": [
  {
   "cell_type": "markdown",
   "id": "645bb9ab",
   "metadata": {},
   "source": [
    "# Function File"
   ]
  },
  {
   "cell_type": "code",
   "execution_count": 1,
   "id": "efd2bbf6",
   "metadata": {},
   "outputs": [],
   "source": [
    "from pymongo import MongoClient\n",
    "import numpy as np\n",
    "import pandas as pd\n",
    "import time\n",
    "import re\n",
    "\n",
    "# Foursquare-required libraries\n",
    "import os\n",
    "import requests\n",
    "from dotenv import load_dotenv\n",
    "\n",
    "# setup specific to my console, my dataset\n",
    "client = MongoClient(\"localhost:27017\")\n",
    "client.list_database_names()\n",
    "\n",
    "db = client[\"Ironhack\"]\n",
    "db.list_collection_names()\n",
    "c = db.get_collection(\"companies\")"
   ]
  },
  {
   "cell_type": "markdown",
   "id": "c1bc0b0f",
   "metadata": {},
   "source": [
    "## Find All Offices in a City"
   ]
  },
  {
   "cell_type": "code",
   "execution_count": 2,
   "id": "cdf5f649",
   "metadata": {},
   "outputs": [],
   "source": [
    "# Create a dataframe for all offices in the city\n",
    "def find_offices(city):\n",
    "    \n",
    "    # set parameters for list discovery\n",
    "    filter_ = {\"offices.city\":city}\n",
    "    projection = {\"_id\":0, \"name\":1, \"offices.city\":1, \"offices.latitude\":1, \"offices.longitude\":1}\n",
    "    \n",
    "    # pass all offices into this dict\n",
    "    name = []\n",
    "    lat = []\n",
    "    lon = []\n",
    "\n",
    "    # loop through each company\n",
    "    for i in list(c.find(filter_, projection)):    \n",
    "\n",
    "        # loop through each office in a company\n",
    "        for y in i['offices']:\n",
    "            \n",
    "            # only add values if this is the correct city branch of the company\n",
    "            if y['city'] == city:\n",
    "            \n",
    "                # add mongo values to a dictionary\n",
    "                name.append(i['name'])\n",
    "                lat.append(y['latitude'])\n",
    "                lon.append(y['longitude'])\n",
    "\n",
    "    # apply new info to a dictionary, then to a dataframe\n",
    "    to_df = {'name':name, 'lat':lat, 'lon':lon}\n",
    "    df = pd.DataFrame.from_dict(to_df)\n",
    "    df.dropna(inplace=True)\n",
    "    return df"
   ]
  },
  {
   "cell_type": "markdown",
   "id": "5a67103a",
   "metadata": {},
   "source": [
    "## Add design companies + startups to the previous function: Find All Offices in a City"
   ]
  },
  {
   "cell_type": "code",
   "execution_count": 3,
   "id": "0eef3158",
   "metadata": {},
   "outputs": [
    {
     "data": {
      "text/html": [
       "<div>\n",
       "<style scoped>\n",
       "    .dataframe tbody tr th:only-of-type {\n",
       "        vertical-align: middle;\n",
       "    }\n",
       "\n",
       "    .dataframe tbody tr th {\n",
       "        vertical-align: top;\n",
       "    }\n",
       "\n",
       "    .dataframe thead th {\n",
       "        text-align: right;\n",
       "    }\n",
       "</style>\n",
       "<table border=\"1\" class=\"dataframe\">\n",
       "  <thead>\n",
       "    <tr style=\"text-align: right;\">\n",
       "      <th></th>\n",
       "      <th>name</th>\n",
       "      <th>lat</th>\n",
       "      <th>lon</th>\n",
       "      <th>tags</th>\n",
       "    </tr>\n",
       "  </thead>\n",
       "  <tbody>\n",
       "    <tr>\n",
       "      <th>0</th>\n",
       "      <td>e-contratos</td>\n",
       "      <td>39.469301</td>\n",
       "      <td>-0.377068</td>\n",
       "      <td>potential office location</td>\n",
       "    </tr>\n",
       "    <tr>\n",
       "      <th>1</th>\n",
       "      <td>Modo Marketing</td>\n",
       "      <td>39.640730</td>\n",
       "      <td>-0.421944</td>\n",
       "      <td>potential office location</td>\n",
       "    </tr>\n",
       "    <tr>\n",
       "      <th>2</th>\n",
       "      <td>Efebege</td>\n",
       "      <td>39.450211</td>\n",
       "      <td>-0.392465</td>\n",
       "      <td>potential office location</td>\n",
       "    </tr>\n",
       "    <tr>\n",
       "      <th>4</th>\n",
       "      <td>DOMODESK</td>\n",
       "      <td>39.461268</td>\n",
       "      <td>-0.398346</td>\n",
       "      <td>potential office location</td>\n",
       "    </tr>\n",
       "    <tr>\n",
       "      <th>5</th>\n",
       "      <td>H2scan</td>\n",
       "      <td>34.442143</td>\n",
       "      <td>-118.598765</td>\n",
       "      <td>potential office location</td>\n",
       "    </tr>\n",
       "  </tbody>\n",
       "</table>\n",
       "</div>"
      ],
      "text/plain": [
       "             name        lat         lon                       tags\n",
       "0     e-contratos  39.469301   -0.377068  potential office location\n",
       "1  Modo Marketing  39.640730   -0.421944  potential office location\n",
       "2         Efebege  39.450211   -0.392465  potential office location\n",
       "4        DOMODESK  39.461268   -0.398346  potential office location\n",
       "5          H2scan  34.442143 -118.598765  potential office location"
      ]
     },
     "execution_count": 3,
     "metadata": {},
     "output_type": "execute_result"
    }
   ],
   "source": [
    "### This code is not used in the final project\n",
    "\n",
    "# Create a dataframe for all offices in the city\n",
    "def find_offices(city):\n",
    "    \n",
    "    # set parameters for list discovery\n",
    "    filter_ = {\"offices.city\":city}\n",
    "    projection = {\"_id\":0, \"name\":1, \"offices.city\":1, \"offices.latitude\":1, \"offices.longitude\":1, \"tag_list\":1}\n",
    "    \n",
    "    # pass all offices into this dict\n",
    "    name = []\n",
    "    lat = []\n",
    "    lon = []\n",
    "    tags = []\n",
    "\n",
    "    # loop through each company\n",
    "    for i in list(c.find(filter_, projection)):    \n",
    "\n",
    "        # loop through each office in a company\n",
    "        for y in i['offices']:\n",
    "            \n",
    "            # only add values if this is the correct city branch of the company\n",
    "            if y['city'] == city:\n",
    "            \n",
    "                # add mongo values to a dictionary\n",
    "                name.append(i['name'])\n",
    "                lat.append(y['latitude'])\n",
    "                lon.append(y['longitude'])\n",
    "                try:\n",
    "                    if 'design' in i['tag_list']:\n",
    "                        tags.append(i['tag_list'])\n",
    "                    elif 'startup' in i['tag_list']:\n",
    "                        tags.append('startup') # recheck for founded_year less than 5y ago (list from 2013, \n",
    "                        # so query companies made just after the '08 crisis)\n",
    "                    else:\n",
    "                        tags.append('potential office location')\n",
    "                except:\n",
    "                    tags.append('potential office location')\n",
    "\n",
    "    # apply new info to a dictionary, then to a dataframe\n",
    "    to_df = {'name':name, 'lat':lat, 'lon':lon, 'tags':tags}\n",
    "    df = pd.DataFrame.from_dict(to_df)\n",
    "    df.dropna(inplace=True)\n",
    "    return df\n",
    "\n",
    "find_offices('Valencia')\n"
   ]
  },
  {
   "cell_type": "markdown",
   "id": "97a5c944",
   "metadata": {},
   "source": [
    "## Query MongoDB for Designers and return a list"
   ]
  },
  {
   "cell_type": "code",
   "execution_count": 4,
   "id": "87bf4151",
   "metadata": {},
   "outputs": [
    {
     "data": {
      "text/html": [
       "<div>\n",
       "<style scoped>\n",
       "    .dataframe tbody tr th:only-of-type {\n",
       "        vertical-align: middle;\n",
       "    }\n",
       "\n",
       "    .dataframe tbody tr th {\n",
       "        vertical-align: top;\n",
       "    }\n",
       "\n",
       "    .dataframe thead th {\n",
       "        text-align: right;\n",
       "    }\n",
       "</style>\n",
       "<table border=\"1\" class=\"dataframe\">\n",
       "  <thead>\n",
       "    <tr style=\"text-align: right;\">\n",
       "      <th></th>\n",
       "      <th>name</th>\n",
       "      <th>tags</th>\n",
       "      <th>city</th>\n",
       "    </tr>\n",
       "  </thead>\n",
       "  <tbody>\n",
       "  </tbody>\n",
       "</table>\n",
       "</div>"
      ],
      "text/plain": [
       "Empty DataFrame\n",
       "Columns: [name, tags, city]\n",
       "Index: []"
      ]
     },
     "execution_count": 4,
     "metadata": {},
     "output_type": "execute_result"
    }
   ],
   "source": [
    "# Create a dataframe for all designers in each city\n",
    "#def find_offices(city1, city2, city3):\n",
    "city1, city2, city3 = \"Madrid\", \"Barcelona\", \"Valencia\" # temp line until function definition replaces this\n",
    "\n",
    "# lists to collect name sand then be turned into a dataframe via a dictionary\n",
    "design_query_names = []\n",
    "design_query_tags = []\n",
    "design_query_cities = []\n",
    "\n",
    "# set parameters for list discovery\n",
    "filter_ = {\"tag_list\":{\"$regex\":\"design\"}, \"offices.city\":city3}\n",
    "projection = {\"_id\":0, \"name\":1, \"offices.city\":1, \"tag_list\":1}\n",
    "\n",
    "# loop through each company to find those which match the criteria\n",
    "for i in list(c.find(filter_, projection)):\n",
    "\n",
    "    # only add the designer if this is in one of the cities in the search criteria\n",
    "    if i['offices']['city'] == city1: #or city2 or city3:\n",
    "\n",
    "        # add mongo values to a dictionary\n",
    "        design_query_names.append(i['name'])\n",
    "        design_query_tags.append(i['tag_list'])\n",
    "        design_query_cities.append(i['city'])\n",
    "\n",
    "# apply new info to a dictionary, then to a dataframe\n",
    "to_df = {'name':design_query_names, 'tags':design_query_tags, 'city':design_query_cities}\n",
    "df = pd.DataFrame.from_dict(to_df)\n",
    "#df.dropna(inplace=True)\n",
    "df\n",
    "    #return df"
   ]
  },
  {
   "cell_type": "markdown",
   "id": "57d556cd",
   "metadata": {},
   "source": [
    "## Query Foursquare for Starbucks and return a list"
   ]
  },
  {
   "cell_type": "code",
   "execution_count": 7,
   "id": "fb752761",
   "metadata": {},
   "outputs": [],
   "source": [
    "# setup search\n",
    "load_dotenv()\n",
    "client_id = os.getenv(\"CLIENT_ID\")\n",
    "client_secret = os.getenv(\"CLIENT_SECRET\")\n",
    "url = \"https://api.foursquare.com/v2/venues/search/\"\n",
    "\n",
    "# input coordinates to find nearest venue\n",
    "barcelona = [41.385486, 2.170287] # temp coordinates until function defined\n",
    "query = \"Starbucks\""
   ]
  },
  {
   "cell_type": "markdown",
   "id": "29da724a",
   "metadata": {},
   "source": [
    "### Remember to limit header queries, or risk reaching your quota!"
   ]
  },
  {
   "cell_type": "code",
   "execution_count": 16,
   "id": "9e867776",
   "metadata": {},
   "outputs": [
    {
     "ename": "NameError",
     "evalue": "name 'bcn' is not defined",
     "output_type": "error",
     "traceback": [
      "\u001b[0;31m---------------------------------------------------------------------------\u001b[0m",
      "\u001b[0;31mNameError\u001b[0m                                 Traceback (most recent call last)",
      "Input \u001b[0;32mIn [16]\u001b[0m, in \u001b[0;36m<cell line: 13>\u001b[0;34m()\u001b[0m\n\u001b[1;32m      8\u001b[0m     response \u001b[38;5;241m=\u001b[39m requests\u001b[38;5;241m.\u001b[39mget(url, headers\u001b[38;5;241m=\u001b[39mheaders)\n\u001b[1;32m      9\u001b[0m     \u001b[38;5;28;01mreturn\u001b[39;00m response\u001b[38;5;241m.\u001b[39mjson()[\u001b[38;5;124m\"\u001b[39m\u001b[38;5;124mresults\u001b[39m\u001b[38;5;124m\"\u001b[39m][\u001b[38;5;241m0\u001b[39m][\u001b[38;5;124m\"\u001b[39m\u001b[38;5;124mgeocodes\u001b[39m\u001b[38;5;124m\"\u001b[39m]\n\u001b[0;32m---> 13\u001b[0m nearest_starbucks \u001b[38;5;241m=\u001b[39m get_fsqr_distance(\u001b[38;5;124m'\u001b[39m\u001b[38;5;124mstarbucks\u001b[39m\u001b[38;5;124m'\u001b[39m,\u001b[43mbcn\u001b[49m)\n\u001b[1;32m     14\u001b[0m nearest_starbucks\n",
      "\u001b[0;31mNameError\u001b[0m: name 'bcn' is not defined"
     ]
    }
   ],
   "source": [
    "# input office coordinates and venue to find nearby\n",
    "query = \"starbucks\"\n",
    "origin = [41.385486,2.170287]\n",
    "\n",
    "def get_fsqr_distance(query, origin):\n",
    "    url = f\"https://api.foursquare.com/v3/places/search?query={query}&ll={origin[0]}%2C{origin[1]}&sort=DISTANCE&limit=1\"\n",
    "    headers = {\n",
    "        \"Accept\": \"application/json\",\n",
    "        \"Authorization\": \"fsq3nSb08fmNysRWqCGqA/6XjzbUkx+LGcB+JOstG+sNUI8=\"\n",
    "    }\n",
    "    response = requests.get(url, headers=headers)\n",
    "    return response.json()[\"results\"][0][\"geocodes\"]\n",
    "    \n",
    "nearest_starbucks = get_fsqr_distance(query,origin)\n",
    "nearest_starbucks"
   ]
  },
  {
   "cell_type": "markdown",
   "id": "907598bb",
   "metadata": {},
   "source": [
    "## Sort through the closest of the returned locations to each office location."
   ]
  },
  {
   "cell_type": "code",
   "execution_count": null,
   "id": "699c15e2",
   "metadata": {},
   "outputs": [],
   "source": [
    "# pull a city's office locations and design company locations into lists\n",
    "\n",
    "# for i in office_location:\n",
    "#   for y in design_companies:\n",
    "#     if the design company is closer than the last one:\n",
    "#       store the new value\n",
    "\n",
    "# probably save to a list bc this will be used for all 9 requirements\n",
    "# so you will need to pass all 9 lists into a new dict and then df"
   ]
  }
 ],
 "metadata": {
  "kernelspec": {
   "display_name": "Python 3 (ipykernel)",
   "language": "python",
   "name": "python3"
  },
  "language_info": {
   "codemirror_mode": {
    "name": "ipython",
    "version": 3
   },
   "file_extension": ".py",
   "mimetype": "text/x-python",
   "name": "python",
   "nbconvert_exporter": "python",
   "pygments_lexer": "ipython3",
   "version": "3.9.12"
  }
 },
 "nbformat": 4,
 "nbformat_minor": 5
}
