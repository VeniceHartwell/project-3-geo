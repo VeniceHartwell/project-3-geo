{
 "cells": [
  {
   "cell_type": "markdown",
   "id": "3153706f",
   "metadata": {},
   "source": [
    "# Function File"
   ]
  },
  {
   "cell_type": "code",
   "execution_count": 1,
   "id": "4280c4e2",
   "metadata": {},
   "outputs": [],
   "source": [
    "from pymongo import MongoClient\n",
    "import numpy as np\n",
    "import pandas as pd\n",
    "import time\n",
    "\n",
    "# setup specific to my console, my dataset\n",
    "client = MongoClient(\"localhost:27017\")\n",
    "client.list_database_names()\n",
    "\n",
    "db = client[\"Ironhack\"]\n",
    "db.list_collection_names()\n",
    "c = db.get_collection(\"companies\")"
   ]
  },
  {
   "cell_type": "markdown",
   "id": "2a21eaf9",
   "metadata": {},
   "source": [
    "## Find All Offices in a City"
   ]
  },
  {
   "cell_type": "code",
   "execution_count": 5,
   "id": "c39e974d",
   "metadata": {},
   "outputs": [],
   "source": [
    "# Create a dataframe for all offices in the city\n",
    "def find_offices(city):\n",
    "    \n",
    "    # set parameters for list discovery\n",
    "    filter_ = {\"offices.city\":city}\n",
    "    projection = {\"_id\":0, \"name\":1, \"offices.city\":1, \"offices.latitude\":1, \"offices.longitude\":1}\n",
    "    \n",
    "    # pass all offices into this dict\n",
    "    name = []\n",
    "    lat = []\n",
    "    lon = []\n",
    "\n",
    "    # loop through each company\n",
    "    for i in list(c.find(filter_, projection)):    \n",
    "\n",
    "        # loop through each office in a company\n",
    "        for y in i['offices']:\n",
    "            \n",
    "            # only add values if this is the correct city branch of the company\n",
    "            if y['city'] == city:\n",
    "            \n",
    "                # add mongo values to a dictionary\n",
    "                name.append(i['name'])\n",
    "                lat.append(y['latitude'])\n",
    "                lon.append(y['longitude'])\n",
    "\n",
    "    # apply new info to a dictionary, then to a dataframe\n",
    "    to_df = {'name':name, 'lat':lat, 'lon':lon}\n",
    "    df = pd.DataFrame.from_dict(to_df)\n",
    "    df.dropna(inplace=True)\n",
    "    return df"
   ]
  },
  {
   "cell_type": "markdown",
   "id": "2ded9ac0",
   "metadata": {},
   "source": [
    "# "
   ]
  }
 ],
 "metadata": {
  "kernelspec": {
   "display_name": "Python 3 (ipykernel)",
   "language": "python",
   "name": "python3"
  },
  "language_info": {
   "codemirror_mode": {
    "name": "ipython",
    "version": 3
   },
   "file_extension": ".py",
   "mimetype": "text/x-python",
   "name": "python",
   "nbconvert_exporter": "python",
   "pygments_lexer": "ipython3",
   "version": "3.9.12"
  }
 },
 "nbformat": 4,
 "nbformat_minor": 5
}
